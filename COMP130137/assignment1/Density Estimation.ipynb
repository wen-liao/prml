{
 "cells": [
  {
   "cell_type": "markdown",
   "metadata": {},
   "source": [
    "# Density Estimation"
   ]
  },
  {
   "cell_type": "code",
   "execution_count": 1,
   "metadata": {},
   "outputs": [],
   "source": [
    "import numpy as np\n",
    "from handout import get_data\n",
    "from matplotlib import pyplot as plt"
   ]
  },
  {
   "cell_type": "code",
   "execution_count": 2,
   "metadata": {},
   "outputs": [],
   "source": [
    "data = get_data(num_data=200)"
   ]
  },
  {
   "cell_type": "code",
   "execution_count": 3,
   "metadata": {},
   "outputs": [
    {
     "data": {
      "text/plain": [
       "[27.06854624427116,\n",
       " 26.167724712640652,\n",
       " 27.764996245964504,\n",
       " 25.474121617380497,\n",
       " 27.244855282557854,\n",
       " 21.608583277180326,\n",
       " 26.4212765710452,\n",
       " 30.032597031886965,\n",
       " 29.245068881819407,\n",
       " 27.229998500309456,\n",
       " 29.819511620289564,\n",
       " 27.89159650241665,\n",
       " 28.062612806700972,\n",
       " 29.603526392994592,\n",
       " 36.1997861104527,\n",
       " 26.98381740996906,\n",
       " 27.262289183887138,\n",
       " 35.907357382676246,\n",
       " 29.642896670466925,\n",
       " 27.698575099872986]"
      ]
     },
     "execution_count": 3,
     "metadata": {},
     "output_type": "execute_result"
    }
   ],
   "source": [
    "data[:20]"
   ]
  },
  {
   "cell_type": "markdown",
   "metadata": {},
   "source": [
    "## Histogram Estimation"
   ]
  },
  {
   "cell_type": "code",
   "execution_count": 4,
   "metadata": {},
   "outputs": [],
   "source": [
    "class Histogram:\n",
    "    \n",
    "    def __init__(self,center=0,bins=100,width=1):\n",
    "        self.center = center\n",
    "        self.bins = bins\n",
    "        self.width = width\n",
    "    \n",
    "    def data2ix(self,x):\n",
    "        return int(np.floor((x-self.center)/self.width)) + self.bins\n",
    "    \n",
    "    def estimate(self,data):\n",
    "        self.prob = np.zeros(self.bins*2,dtype = float)\n",
    "        for x in data:\n",
    "            ix = self.data2ix(x)\n",
    "            if ix >=0 and ix < self.bins*2:\n",
    "                self.prob[ix] += 1\n",
    "        self.prob /= self.prob.sum()\n",
    "        \n",
    "    def plot_distribution(self):\n",
    "        x = np.arange(-self.bins+self.center,self.bins+self.center)*self.width\n",
    "        print(x.shape,self.prob.shape)\n",
    "        plt.plot(x,self.prob)\n",
    "        plt.show()"
   ]
  },
  {
   "cell_type": "code",
   "execution_count": 5,
   "metadata": {},
   "outputs": [],
   "source": [
    "hist = Histogram(center=25,bins=40,width=0.5)\n",
    "hist.estimate(data)"
   ]
  },
  {
   "cell_type": "code",
   "execution_count": 6,
   "metadata": {},
   "outputs": [
    {
     "name": "stdout",
     "output_type": "stream",
     "text": [
      "(80,) (80,)\n"
     ]
    },
    {
     "data": {
      "image/png": "[encoded data removed]",
      "text/plain": [
       "<Figure size 432x288 with 1 Axes>"
      ]
     },
     "metadata": {
      "needs_background": "light"
     },
     "output_type": "display_data"
    }
   ],
   "source": [
    "hist.plot_distribution()"
   ]
  },
  {
   "cell_type": "markdown",
   "metadata": {},
   "source": [
    "## Kernel Density Estimation"
   ]
  },
  {
   "cell_type": "code",
   "execution_count": 7,
   "metadata": {},
   "outputs": [],
   "source": [
    "class KernelDensity:\n",
    "    \n",
    "    def __init__(self,h=1):\n",
    "        self.h = h\n",
    "        \n",
    "    def estimate(self,data):\n",
    "        self.data = data\n",
    "    \n",
    "    def plot_distribution(self):\n",
    "        x = np.arange(-5,50,0.5)\n",
    "        p = np.zeros(x.shape[0],dtype=float)\n",
    "        for val in data:\n",
    "            p += np.exp(-(x-val)*(x-val)/(2*self.h*self.h))/(np.sqrt(2*np.pi)*self.h)\n",
    "        p /= len(data)\n",
    "        plt.plot(x,p)\n",
    "        plt.show()"
   ]
  },
  {
   "cell_type": "code",
   "execution_count": 8,
   "metadata": {},
   "outputs": [],
   "source": [
    "kernel = KernelDensity()\n",
    "kernel.estimate(data)"
   ]
  },
  {
   "cell_type": "code",
   "execution_count": 9,
   "metadata": {},
   "outputs": [
    {
     "data": {
      "image/png": "[encoded data removed]",
      "text/plain": [
       "<Figure size 432x288 with 1 Axes>"
      ]
     },
     "metadata": {
      "needs_background": "light"
     },
     "output_type": "display_data"
    }
   ],
   "source": [
    "kernel.plot_distribution()"
   ]
  },
  {
   "cell_type": "markdown",
   "metadata": {},
   "source": [
    "# Nearest Neigbor Method"
   ]
  },
  {
   "cell_type": "code",
   "execution_count": 51,
   "metadata": {},
   "outputs": [],
   "source": [
    "class NearestNeigbor:\n",
    "    \n",
    "    def __init__(self,k=3):\n",
    "        self.k = k\n",
    "        \n",
    "    def estimate(self,data):\n",
    "        self.data = np.array(data)\n",
    "    \n",
    "    def density(self,val):\n",
    "        return 1.0*self.k/sorted(np.abs(self.data-val))[self.k-1]/len(self.data)\n",
    "    \n",
    "    def plot_distribution(self):\n",
    "        x = np.arange(-5,50,0.5)\n",
    "        y = np.array([self.density(val) for val in x])\n",
    "        plt.plot(x,y)\n",
    "        plt.show()"
   ]
  },
  {
   "cell_type": "code",
   "execution_count": 52,
   "metadata": {},
   "outputs": [],
   "source": [
    "knn = NearestNeigbor()\n",
    "knn.estimate(data)"
   ]
  },
  {
   "cell_type": "code",
   "execution_count": 53,
   "metadata": {},
   "outputs": [
    {
     "data": {
      "image/png": "[encoded data removed]",
      "text/plain": [
       "<Figure size 432x288 with 1 Axes>"
      ]
     },
     "metadata": {
      "needs_background": "light"
     },
     "output_type": "display_data"
    }
   ],
   "source": [
    "knn.plot_distribution()"
   ]
  }
 ],
 "metadata": {
  "kernelspec": {
   "display_name": "Python 3",
   "language": "python",
   "name": "python3"
  },
  "language_info": {
   "codemirror_mode": {
    "name": "ipython",
    "version": 3
   },
   "file_extension": ".py",
   "mimetype": "text/x-python",
   "name": "python",
   "nbconvert_exporter": "python",
   "pygments_lexer": "ipython3",
   "version": "3.6.6"
  },
  "toc": {
   "base_numbering": 1,
   "nav_menu": {},
   "number_sections": true,
   "sideBar": true,
   "skip_h1_title": false,
   "title_cell": "Table of Contents",
   "title_sidebar": "Contents",
   "toc_cell": false,
   "toc_position": {},
   "toc_section_display": true,
   "toc_window_display": false
  }
 },
 "nbformat": 4,
 "nbformat_minor": 2
}
